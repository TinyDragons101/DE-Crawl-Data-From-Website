{
 "cells": [
  {
   "cell_type": "code",
   "execution_count": 1,
   "metadata": {},
   "outputs": [
    {
     "name": "stderr",
     "output_type": "stream",
     "text": [
      "/Users/tanpham/Library/Python/3.8/lib/python/site-packages/urllib3/__init__.py:35: NotOpenSSLWarning: urllib3 v2 only supports OpenSSL 1.1.1+, currently the 'ssl' module is compiled with 'LibreSSL 2.8.3'. See: https://github.com/urllib3/urllib3/issues/3020\n",
      "  warnings.warn(\n"
     ]
    }
   ],
   "source": [
    "import bs4\n",
    "import psycopg2\n",
    "import logging\n",
    "import lxml\n",
    "import sys\n",
    "import requests\n",
    "import json\n",
    "import csv"
   ]
  },
  {
   "cell_type": "code",
   "execution_count": 2,
   "metadata": {},
   "outputs": [],
   "source": [
    "# Load data from data.json\n",
    "data_file = open(\"data.json\")\n",
    "data_dict = json.load(data_file)"
   ]
  },
  {
   "cell_type": "code",
   "execution_count": 3,
   "metadata": {},
   "outputs": [],
   "source": [
    "# Create get_logger() function\n",
    "\n",
    "def get_logger():\n",
    "    logger = logging.getLogger('my_logger')\n",
    "    logger.setLevel(logging.DEBUG)\n",
    "    logger.propagate=False\n",
    "    \n",
    "    formatter = logging.Formatter('%(asctime)s - %(levelname)s - %(lineno)d : %(message)s')\n",
    "    \n",
    "    file_handler = logging.FileHandler(data_dict[\"file_log\"])\n",
    "    file_handler.setFormatter(formatter)\n",
    "    file_handler.setLevel(logging.DEBUG)\n",
    "\n",
    "    if not logger.hasHandlers():\n",
    "        logger.addHandler(file_handler)\n",
    "        \n",
    "    return logger\n",
    "    "
   ]
  },
  {
   "cell_type": "code",
   "execution_count": 4,
   "metadata": {},
   "outputs": [],
   "source": [
    "# Init csv writer\n",
    "csv_file = open(data_dict[\"file_csv\"], 'w')\n",
    "csv_writer = csv.writer(csv_file)\n",
    "\n",
    "# Reset file log\n",
    "with open(data_dict[\"file_log\"], 'w'): pass\n",
    "\n",
    "# Init file log to track history\n",
    "logger = get_logger()\n"
   ]
  },
  {
   "cell_type": "code",
   "execution_count": 5,
   "metadata": {},
   "outputs": [],
   "source": [
    "# Create connection to DBSM\n",
    "\n",
    "def create_connection():\n",
    "    f = open('password.txt', 'r')\n",
    "    pw = f.read()\n",
    "    f.close()\n",
    "    connection = psycopg2.connect(\n",
    "        host = data_dict[\"dbms_host\"],\n",
    "        database = \"postgres\",\n",
    "        user = \"postgres\",\n",
    "        password = pw,\n",
    "        port = \"5432\"\n",
    "    )\n",
    "    connection.set_session(autocommit=True)\n",
    "    return connection\n",
    "\n",
    "connection = create_connection()\n",
    "logger.info(f\"Connected to {connection}\")"
   ]
  },
  {
   "cell_type": "code",
   "execution_count": 6,
   "metadata": {},
   "outputs": [],
   "source": [
    "# Create a table in DBMS\n",
    "\n",
    "fields = data_dict[\"event\"][\"data_field\"]\n",
    "table_name = data_dict[\"table_name\"]\n",
    "\n",
    "def create_table_dbms(connection, table_name, fields):\n",
    "    logger.info(f\"Start create table {table_name}\")\n",
    "    list_field_name_field_type = [f'{field[\"field\"]} {field[\"type\"]} ' for field in fields]\n",
    "    str_field_name_field_type = ', '.join(list_field_name_field_type)\n",
    "    create_table_str = f\"\"\"\n",
    "        create table if not exists {table_name} (\n",
    "            {str_field_name_field_type}\n",
    "        )\n",
    "    \"\"\"\n",
    "    cur = connection.cursor()\n",
    "    cur.execute(create_table_str)\n",
    "\n",
    "def create_table_csv(csv_writer, fields):\n",
    "    list_field_name = [f'{field[\"field\"]}' for field in fields]\n",
    "    csv_writer.writerow(list_field_name)\n",
    "\n",
    "create_table_csv(csv_writer, fields)\n",
    "create_table_dbms(connection, table_name, fields)"
   ]
  }
 ],
 "metadata": {
  "kernelspec": {
   "display_name": "Python 3",
   "language": "python",
   "name": "python3"
  },
  "language_info": {
   "codemirror_mode": {
    "name": "ipython",
    "version": 3
   },
   "file_extension": ".py",
   "mimetype": "text/x-python",
   "name": "python",
   "nbconvert_exporter": "python",
   "pygments_lexer": "ipython3",
   "version": "3.8.9"
  }
 },
 "nbformat": 4,
 "nbformat_minor": 2
}
