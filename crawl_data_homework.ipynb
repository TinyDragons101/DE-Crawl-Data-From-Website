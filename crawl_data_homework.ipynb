{
 "cells": [
  {
   "cell_type": "markdown",
   "metadata": {},
   "source": [
    "# My DE homework about crawling information of movies in some movies websites\n",
    "\n",
    "### Step 1: create a connection to a DBSM\n",
    "\n",
    "### Step 2: create a table on DBSM (here i use postgres in Dbeaver)\n",
    "\n",
    "### Step 3: crawl data (information) of movies from the website and generate data\n",
    "\n",
    "### Step 4: insert data into database"
   ]
  },
  {
   "cell_type": "code",
   "execution_count": 1,
   "metadata": {},
   "outputs": [],
   "source": [
    "import bs4\n",
    "import lxml\n",
    "event = {\n",
    "    \"urls\" : [\n",
    "        \"https://phimmoiyyy.net/the-loai/phim-chieu-rap\",\n",
    "        \"https://phimmoiiii.net/the-loai/phim-hinh-su\",\n",
    "        \"https://phimmoiiii.net/the-loai/phim-netflix\"\n",
    "    ],\n",
    "    \"table_name\": \"movies\",\n",
    "    \"data_field\": [\n",
    "        {\n",
    "            \"field\": \"id\",\n",
    "            \"type\": \"integer\"\n",
    "        },\n",
    "        {\n",
    "            \"field\": \"movie_link\",\n",
    "            \"type\": \"varchar\"\n",
    "        },\n",
    "        {\n",
    "            \"field\": \"poster_image_link\",\n",
    "            \"type\": \"varchar\"\n",
    "        },\n",
    "        {\n",
    "            \"field\": \"movie_name\",\n",
    "            \"type\": \"varchar\"\n",
    "        },\n",
    "        {\n",
    "            \"field\": \"movie_status\",\n",
    "            \"type\": \"varchar\"\n",
    "        },\n",
    "        {\n",
    "            \"field\": \"en_name\",\n",
    "            \"type\": \"varchar\"\n",
    "        },\n",
    "        {\n",
    "            \"field\": \"vn_name\",\n",
    "            \"type\": \"varchar\"\n",
    "        },\n",
    "        {\n",
    "            \"field\": \"category\",\n",
    "            \"type\": \"varchar\"\n",
    "        }\n",
    "    ]\n",
    "}"
   ]
  },
  {
   "cell_type": "code",
   "execution_count": 2,
   "metadata": {},
   "outputs": [
    {
     "name": "stdout",
     "output_type": "stream",
     "text": [
      "INFO:root:connection log: <connection object at 0x103e77eb0; dsn: 'user=postgres password=xxx dbname=postgres host=introduction-01-intro-ap-southeast-1-dev-introduction-db.cpfm8ml2cxp2.ap-southeast-1.rds.amazonaws.com port=5432', closed: 0>\n"
     ]
    }
   ],
   "source": [
    "# Step 1: create a connection to DBSM\n",
    "\n",
    "import psycopg2\n",
    "import logging\n",
    "import sys\n",
    "\n",
    "logging.basicConfig(stream=sys.stdout, level=logging.DEBUG)\n",
    "logger = logging.getLogger()\n",
    "logger.setLevel(logging.INFO)\n",
    "\n",
    "def create_connection():\n",
    "    connection = psycopg2.connect(\n",
    "        host=\"introduction-01-intro-ap-southeast-1-dev-introduction-db.cpfm8ml2cxp2.ap-southeast-1.rds.amazonaws.com\",\n",
    "        database=\"postgres\",\n",
    "        user=\"postgres\",\n",
    "        password=\"postgres123\",\n",
    "        port=\"5432\"\n",
    "    )\n",
    "    connection.set_session(autocommit=True)\n",
    "    return connection\n",
    "\n",
    "connection = create_connection()\n",
    "logger.info(f\"connection log: {connection}\")\n",
    "    "
   ]
  },
  {
   "cell_type": "code",
   "execution_count": 3,
   "metadata": {},
   "outputs": [
    {
     "name": "stdout",
     "output_type": "stream",
     "text": [
      "INFO:root:Start create table ai4e_movie_minhtanpham\n"
     ]
    }
   ],
   "source": [
    "\n",
    "# Step 2: create a table on DBSM\n",
    "\n",
    "def create_table(connection, table_name, fields):\n",
    "    logger.info(f\"Start create table {table_name}\")\n",
    "    list_field_name_field_type = [f'{field[\"field\"]} {field[\"type\"]}' for field in fields] \n",
    "    result_field_name_field_type = ','.join(list_field_name_field_type)\n",
    "\n",
    "    create_table_str = f\"\"\"\n",
    "        create table if not exists {table_name} (\n",
    "            {result_field_name_field_type}\n",
    "        )\n",
    "    \"\"\"\n",
    "\n",
    "    cursor = connection.cursor()\n",
    "    cursor.execute(create_table_str)\n",
    "\n",
    "\n",
    "table_name = \"ai4e_movie_minhtanpham\"\n",
    "fields = event[\"data_field\"]\n",
    "\n",
    "create_table(connection, table_name, fields)"
   ]
  },
  {
   "cell_type": "code",
   "execution_count": 4,
   "metadata": {},
   "outputs": [
    {
     "name": "stderr",
     "output_type": "stream",
     "text": [
      "/Users/tanpham/Library/Python/3.8/lib/python/site-packages/urllib3/__init__.py:35: NotOpenSSLWarning: urllib3 v2 only supports OpenSSL 1.1.1+, currently the 'ssl' module is compiled with 'LibreSSL 2.8.3'. See: https://github.com/urllib3/urllib3/issues/3020\n",
      "  warnings.warn(\n"
     ]
    },
    {
     "name": "stdout",
     "output_type": "stream",
     "text": [
      "29\n",
      "24\n",
      "19\n",
      "72\n"
     ]
    }
   ],
   "source": [
    "# Step 3: crawl data from the websites and generate\n",
    "\n",
    "import requests\n",
    "import bs4\n",
    "import lxml\n",
    "\n",
    "def crawl_data(event, total_movies):\n",
    "    for url in event[\"urls\"]:\n",
    "        info = requests.get(url, headers={})\n",
    "\n",
    "        soup = bs4.BeautifulSoup(info.content, features='html.parser')\n",
    "\n",
    "        movies = soup.find_all(\"article\", {\"class\": \"item movies\"})\n",
    "        print(len(movies))\n",
    "\n",
    "        for movie in movies:\n",
    "            movies_id = movie[\"id\"].split(\"-\")[1]\n",
    "            movie_footer = movie.find('div', {\"class\": \"data\"})\n",
    "            movie_link = movie_footer.find(\"a\")[\"href\"]\n",
    "            vn_name = movie_footer.find(\"a\").text\n",
    "            en_name = movie_footer.find(\"span\").text\n",
    "            poster_image_link = movie.find(\"img\")[\"src\"]\n",
    "            movie_name = movie.find(\"img\")[\"alt\"]\n",
    "            movie_status = movie.find('div', {\"class\": \"trangthai\"}).text\n",
    "            category = \"phim-chieu-rap\"\n",
    "\n",
    "            movie_dict = {\n",
    "                \"id\": movies_id,\n",
    "                \"movie_link\": movie_link,\n",
    "                \"poster_image_link\": poster_image_link,\n",
    "                \"movie_name\": movie_name,\n",
    "                \"movie_status\": movie_status,\n",
    "                \"en_name\": en_name,\n",
    "                \"vn_name\": vn_name,\n",
    "                \"category\": category\n",
    "            }\n",
    "            total_movies.append(movie_dict)\n",
    "            \n",
    "total_movies = []\n",
    "crawl_data(event, total_movies)\n",
    "print(len(total_movies))"
   ]
  },
  {
   "cell_type": "code",
   "execution_count": 5,
   "metadata": {},
   "outputs": [
    {
     "name": "stdout",
     "output_type": "stream",
     "text": [
      "INFO:root:Start insert data into table ai4e_movie_minhtanpham\n",
      "\n",
      "        INSERT INTO ai4e_movie_minhtanpham (id,movie_link,poster_image_link,movie_name,movie_status,en_name,vn_name,category)\n",
      "        VALUES (16155,'https://phimmoiiii.net/phim-le/bua-hinh-nhan','https://phimmoiiii.net/wp-content/uploads/2023/04/Bua-Hinh-Nhan.jpg','Bùa Hình Nhân','HD Vietsub',' Hoon Payon 2023 ','Bùa Hình Nhân','phim-chieu-rap'),(34569,'https://phimmoiiii.net/phim-le/hon-ma-khong-dau','https://phimmoiiii.net/wp-content/uploads/2022/07/hon-ma-khong-dau.jpg','Hồn Ma Không Đầu','HD Vietsub',' Ivanna 2022 ','Hồn Ma Không Đầu','phim-chieu-rap'),(3208,'https://phimmoiiii.net/phim-le/ma-lai-rut-ruot','https://phimmoiiii.net/wp-content/uploads/2023/04/Phim-Ma-Lai-Rut-Ruot.jpg','Ma Lai Rút Ruột','HD Vietsub',' Inhuman Kiss 2 2023 ','Ma Lai Rút Ruột','phim-chieu-rap'),(31855,'https://phimmoiiii.net/phim-le/ma-so-truc-quy','https://phimmoiiii.net/wp-content/uploads/2022/11/ma-so-truc-quy.jpg','Ma Sơ Trục Quỷ','Coming Soon',' La Exorcista 2023 ','Ma Sơ Trục Quỷ','phim-chieu-rap'),(69953,'https://phimmoiiii.net/phim-le/yeu-lai-vo-ngau','https://phimmoiiii.net/wp-content/uploads/2023/10/Yeu-Lai-Vo-Ngau.jpg','Yêu Lại Vợ Ngầu','HD Vietsub',' Love Reset 2023 ','Yêu Lại Vợ Ngầu','phim-chieu-rap'),(59535,'https://phimmoiiii.net/phim-le/thanh-guom-tru-ta','https://phimmoiiii.net/wp-content/uploads/2023/09/Thanh-Guom-Tru-Ta.jpg','Thanh Gươm Trừ Tà','HD Vietsub',' Dr. Cheon and Lost Talisman 2023 ','Thanh Gươm Trừ Tà','phim-chieu-rap'),(56802,'https://phimmoiiii.net/phim-le/paw-patrol-phim-sieu-dang','https://phimmoiiii.net/wp-content/uploads/2023/09/PAW-Patrol-Phim-Sieu-Dang.jpg','PAW Patrol: Phim Siêu Đẳng','HD Vietsub',' PAW Patrol: The Mighty Movie 2023 ','PAW Patrol: Phim Siêu Đẳng','phim-chieu-rap'),(25015,'https://phimmoiiii.net/phim-le/livestream','https://phimmoiiii.net/wp-content/uploads/2023/06/Live-Stream.jpg','LiveStream','HD Vietsub',' LiveStream 2023 ','LiveStream','phim-chieu-rap'),(49765,'https://phimmoiiii.net/phim-le/bo-doi-bao-thu-155517','https://phimmoiiii.net/wp-content/uploads/2023/10/Ransomed.jpg','Bộ Đôi Báo Thủ','HD Vietsub',' Ransomed 2023 ','Bộ Đôi Báo Thủ','phim-chieu-rap'),(46164,'https://phimmoiiii.net/phim-le/dia-dang-sup-do-154151','https://phimmoiiii.net/wp-content/uploads/2023/09/dia-dang-sup-do.jpg','Địa Đàng Sụp Đổ','HD Vietsub',' Concrete Utopia 2023 ','Địa Đàng Sụp Đổ','phim-chieu-rap'),(35054,'https://phimmoiiii.net/phim-le/phong-than-1-tam-bo-khuc-541411','https://image.tmdb.org/t/p/w185/y4Q4N7S5CozfSxLecUbGhDj3gz4.jpg','Phong Thần 1: Tam Bộ Khúc','HD Vietsub',' Creation of the Gods 1: Kingdom Of Storms 2023 ','Phong Thần 1: Tam Bộ Khúc','phim-chieu-rap'),(13970,'https://phimmoiiii.net/phim-le/tieng-goi-am-binh','https://phimmoiiii.net/wp-content/uploads/2023/04/Tieng-goi-am-binh.jpg','Tiếng Gọi Âm Binh','HD Vietsub',' Khanzab 2023 ','Tiếng Gọi Âm Binh','phim-chieu-rap'),(44631,'https://phimmoiiii.net/phim-le/goi-hon-quy-du','https://phimmoiiii.net/wp-content/uploads/2023/07/goi-hon-quy-du.jpg','Gọi Hồn Quỷ Dữ','HD Vietsub',' Talk to Me 2023 ','Gọi Hồn Quỷ Dữ','phim-chieu-rap'),(40251,'https://phimmoiiii.net/phim-le/the-moon-nhiem-vu-cuoi-cung','https://phimmoiiii.net/wp-content/uploads/2023/08/The-Moon.jpg','The Moon: Nhiệm Vụ Cuối Cùng','HD Vietsub',' The Moon 2023 ','The Moon: Nhiệm Vụ Cuối Cùng','phim-chieu-rap'),(40945,'https://phimmoiiii.net/phim-le/dracula-quy-du-thuc-tinh-11154','https://phimmoiiii.net/wp-content/uploads/2023/08/Dracula-Quy-Du-Thuc-Tinh.jpg','Dracula: Quỷ Dữ Thức Tỉnh','HD Vietsub',' The Last Voyage of the Demeter 2023 ','Dracula: Quỷ Dữ Thức Tỉnh','phim-chieu-rap'),(23746,'https://phimmoiiii.net/phim-le/phim-ong-ke','https://phimmoiiii.net/wp-content/uploads/2023/06/Phim-ong-ke.jpg','Ông Kẹ','HD Vietsub',' The Boogeyman 2023 ','Ông Kẹ','phim-chieu-rap'),(25438,'https://phimmoiiii.net/phim-le/indiana-jones-5-va-vong-quay-dinh-menh','https://phimmoiiii.net/wp-content/uploads/2023/06/Indiana-Jones-va-Vong-Quay-Dinh-Menh.jpg','Indiana Jones 5 và Vòng Quay Định Mệnh','HD Vietsub',' Indiana Jones 5 and the Dial of Destiny 2023 ','Indiana Jones 5 và Vòng Quay Định Mệnh','phim-chieu-rap'),(35091,'https://phimmoiiii.net/phim-le/bao-trang-3','https://phimmoiiii.net/wp-content/uploads/2023/07/Bao-trang-3.jpg','Bão Trắng 3','HD Vietsub',' The White Storm 3: Heaven or Hell 2023 ','Bão Trắng 3','phim-chieu-rap'),(34288,'https://phimmoiiii.net/phim-le/quy-cong-tu-154121','https://phimmoiiii.net/wp-content/uploads/2023/07/phim-quy-cong-tu.jpg','Quý Công Tử','HD Vietsub',' The Childe 2023 ','Quý Công Tử','phim-chieu-rap'),(21813,'https://phimmoiiii.net/phim-le/ta-chu-cam','https://phimmoiiii.net/wp-content/uploads/2023/04/ta-chu-cam.jpg','Tà Chú Cấm','HD Vietsub',' Home for Rent 2023 ','Tà Chú Cấm','phim-chieu-rap'),(35495,'https://phimmoiiii.net/phim-le/vo-danh','https://phimmoiiii.net/wp-content/uploads/2023/07/phim-vo-danh.jpg','Vô Danh','HD Vietsub',' Hidden Blade 2023 ','Vô Danh','phim-chieu-rap'),(34027,'https://phimmoiiii.net/phim-le/ruby-thuy-quai-tuoi-teen','https://phimmoiiii.net/wp-content/uploads/2023/06/Ruby-Thuy-Quai-Tuoi-Teen.jpg','Ruby Thủy Quái Tuổi Teen','HD Vietsub',' Ruby Gillman, Teenage Kraken 2023 ','Ruby Thủy Quái Tuổi Teen','phim-chieu-rap'),(32043,'https://phimmoiiii.net/phim-le/nha-ga-nuot-chung','https://phimmoiiii.net/wp-content/uploads/2022/06/Nha-ga-nuot-chung.jpg','Nhà Ga Nuốt Chửng','HD Vietsub',' Kisaragi Station 2022 ','Nhà Ga Nuốt Chửng','phim-chieu-rap'),(28899,'https://phimmoiiii.net/phim-le/sieu-nhan-cuong-phong-ky-niem-20-nam','https://phimmoiiii.net/wp-content/uploads/2023/06/Sieu-nhan-cuong-phong-ky-niem-20-nam.jpg','Siêu Nhân Cuồng Phong Kỷ Niệm 20 Năm','HD Vietsub',' Ninpu Sentai Hurricaneger: 20 Years After 2023 ','Siêu Nhân Cuồng Phong Kỷ Niệm 20 Năm','phim-chieu-rap'),(13255,'https://phimmoiiii.net/phim-le/vay-ham-khong-loi-thoat-717111','https://phimmoiiii.net/wp-content/uploads/2023/05/Vay-Ham-Khong-Loi-Thoat.jpg','Vây Hãm: Không Lối Thoát','HD Vietsub',' The Roundup: No Way Out 2023 ','Vây Hãm: Không Lối Thoát','phim-chieu-rap'),(26677,'https://phimmoiiii.net/phim-le/gangnam-that-thu','https://phimmoiiii.net/wp-content/uploads/2023/07/Gangnam-That-Thu.jpg','Gangnam Thất Thủ','HD Vietsub',' Gangnam Zombie 2023 ','Gangnam Thất Thủ','phim-chieu-rap'),(14950,'https://phimmoiiii.net/phim-le/quai-vat-song-mekong','https://phimmoiiii.net/wp-content/uploads/2023/06/phim-quai-vat-song-me-kong.jpg','Quái Vật Sông Mekong','HD Vietsub',' The Lake 2022 ','Quái Vật Sông Mekong','phim-chieu-rap'),(4002,'https://phimmoiiii.net/phim-le/tram-tau-ma','https://phimmoiiii.net/wp-content/uploads/2023/04/Tram-tau-ma.jpg','Trạm Tàu Ma','HD Vietsub',' The Ghost Station 2023 ','Trạm Tàu Ma','phim-chieu-rap'),(13974,'https://phimmoiiii.net/phim-le/oan-hon','https://phimmoiiii.net/wp-content/uploads/2023/05/oan-hon.jpg','Oán Hồn','Coming Soon',' The Creeping 2022 ','Oán Hồn','phim-chieu-rap'),(84471,'https://phimmoiiii.net/phim-le/bhakshak-toi-loi-lam-ngo','https://image.tmdb.org/t/p/w185/2eCELoyf0l3njFKfn3oddo3JaRG.jpg','Bhakshak: Tội lỗi làm ngơ','HD Vietsub',' Bhakshak 2024 ','Bhakshak: Tội lỗi làm ngơ','phim-chieu-rap'),(84394,'https://phimmoiiii.net/phim-le/giua-muon-trung-toi-ac','https://image.tmdb.org/t/p/w185/17TsPWnFoLOqzBkee5We1f1X1XX.jpg','Giữa Muôn Trùng Tội Ác','HD Vietsub',' Gomorrah 2008 ','Giữa Muôn Trùng Tội Ác','phim-chieu-rap'),(81741,'https://phimmoiiii.net/phim-le/cho-san-dia-nguc','https://image.tmdb.org/t/p/w185/f9hkaCIha8hIhRo0XXShhcosrPH.jpg','Chó Săn Địa Ngục','HD Vietsub',' Hellhound 2024 ','Chó Săn Địa Ngục','phim-chieu-rap'),(81737,'https://phimmoiiii.net/phim-le/ac-nu','https://image.tmdb.org/t/p/w185/1l5XZjBmSahYU4pKMdUc75DOba5.jpg','Ác Nữ','HD Vietsub',' Lost in Perfection 2023 ','Ác Nữ','phim-chieu-rap'),(61682,'https://phimmoiiii.net/phim-le/doc-chien-2','https://phimmoiiii.net/wp-content/uploads/2023/10/Doc-Chien-2.jpg','Độc Chiến 2','HD Vietsub',' Believer 2 2023 ','Độc Chiến 2','phim-chieu-rap'),(61646,'https://phimmoiiii.net/phim-le/giao-keo-noi-dau','https://phimmoiiii.net/wp-content/uploads/2023/10/Giao-Keo-Noi-Dau.jpg','Giao Kèo Nỗi Đau','HD Vietsub',' Pain Hustlers 2023 ','Giao Kèo Nỗi Đau','phim-chieu-rap'),(59720,'https://phimmoiiii.net/phim-le/sat-thu-bao-thu','https://phimmoiiii.net/wp-content/uploads/2023/11/The-Killer.jpg','Sát Thủ Báo Thù','HD Vietsub',' The Killer 2023 ','Sát Thủ Báo Thù','phim-chieu-rap'),(52505,'https://phimmoiiii.net/phim-le/highlow-lien-minh-tam-trung','https://phimmoiiii.net/wp-content/uploads/2022/09/High-Low-The-Worst-X.jpg','HiGH&LOW: Liên Minh Tam Trung','HD Vietsub',' High & Low The Worst X 2022 ','HiGH&LOW: Liên Minh Tam Trung','phim-chieu-rap'),(51606,'https://phimmoiiii.net/phim-le/vet-nut','https://phimmoiiii.net/wp-content/uploads/2023/10/Biyak.jpg','Vết Nứt','HD Vietsub',' Biyak 2022 ','Vết Nứt','phim-chieu-rap'),(51036,'https://phimmoiiii.net/phim-le/dieu-ba-le-tu-than','https://phimmoiiii.net/wp-content/uploads/2023/10/Dieu-Ba-Le-Tu-Than.jpg','Điệu Ba Lê Tử Thần','HD Vietsub',' Ballerina 2023 ','Điệu Ba Lê Tử Thần','phim-chieu-rap'),(25015,'https://phimmoiiii.net/phim-le/livestream','https://phimmoiiii.net/wp-content/uploads/2023/06/Live-Stream.jpg','LiveStream','HD Vietsub',' LiveStream 2023 ','LiveStream','phim-chieu-rap'),(45894,'https://phimmoiiii.net/phim-le/trung-phat','https://phimmoiiii.net/wp-content/uploads/2023/08/Trung-phat.jpg','Trừng Phạt','HD Vietsub',' Retribution 2023 ','Trừng Phạt','phim-chieu-rap'),(45053,'https://phimmoiiii.net/phim-le/tu-do','https://phimmoiiii.net/wp-content/uploads/2023/09/Freestyle.jpg','Tự Do','HD Vietsub',' Freestyle 2023 ','Tự Do','phim-chieu-rap'),(40193,'https://phimmoiiii.net/phim-le/noi-gian','https://phimmoiiii.net/wp-content/uploads/2023/08/Noi-gian.jpg','Nội Gián','HD Vietsub',' The Initiated 2023 ','Nội Gián','phim-chieu-rap'),(27148,'https://phimmoiiii.net/phim-le/co-ay-mat-tich','https://phimmoiiii.net/wp-content/uploads/2023/06/Co-Ay-Mat-Tich.jpg','Cô Ấy Mất Tích','HD Vietsub',' Lost in the Stars 2023 ','Cô Ấy Mất Tích','phim-chieu-rap'),(35091,'https://phimmoiiii.net/phim-le/bao-trang-3','https://phimmoiiii.net/wp-content/uploads/2023/07/Bao-trang-3.jpg','Bão Trắng 3','HD Vietsub',' The White Storm 3: Heaven or Hell 2023 ','Bão Trắng 3','phim-chieu-rap'),(35577,'https://phimmoiiii.net/phim-le/cuoc-dao-tau-dien-cuong','https://phimmoiiii.net/wp-content/uploads/2023/07/The-Channel.jpg','Cuộc Đào Tẩu Điên Cuồng','HD Vietsub',' The Channel 2023 ','Cuộc Đào Tẩu Điên Cuồng','phim-chieu-rap'),(35495,'https://phimmoiiii.net/phim-le/vo-danh','https://phimmoiiii.net/wp-content/uploads/2023/07/phim-vo-danh.jpg','Vô Danh','HD Vietsub',' Hidden Blade 2023 ','Vô Danh','phim-chieu-rap'),(35174,'https://phimmoiiii.net/phim-le/ai-la-ke-sat-nhan','https://phimmoiiii.net/wp-content/uploads/2023/07/ai-la-ke-sat-nhan.jpg','Ai Là Kẻ Sát Nhân?','HD Vietsub',' The Murderer 2023 ','Ai Là Kẻ Sát Nhân?','phim-chieu-rap'),(34771,'https://phimmoiiii.net/phim-le/dich-nhan-kiet-loi-hoa-huyen-long','https://image.tmdb.org/t/p/w185/yXypFcN2E0SZJj1uaVdjJ2GHReJ.jpg','Địch Nhân Kiệt: Lôi Hỏa Huyền Long','HD Vietsub',' Detective Dee and The Dragon of Fire 2023 ','Địch Nhân Kiệt: Lôi Hỏa Huyền Long','phim-chieu-rap'),(32953,'https://phimmoiiii.net/phim-le/ha-than-quy-thuy-quai-dam','https://phimmoiiii.net/wp-content/uploads/2023/06/Ha-Than-Quy-Thuy-Quai-Dam.jpg','Hà Thần Quỷ Thủy Quái Đàm','HD Vietsub',' River God: The Strange Story 2023 ','Hà Thần Quỷ Thủy Quái Đàm','phim-chieu-rap'),(30271,'https://phimmoiiii.net/phim-le/nhung-co-nang-hanh-dong','https://phimmoiiii.net/wp-content/uploads/2023/06/nhung-co-nang-hanh-dong.jpg','Những Cô Nàng Hành Động','HD Vietsub',' Sheroes 2023 ','Những Cô Nàng Hành Động','phim-chieu-rap'),(13255,'https://phimmoiiii.net/phim-le/vay-ham-khong-loi-thoat-717111','https://phimmoiiii.net/wp-content/uploads/2023/05/Vay-Ham-Khong-Loi-Thoat.jpg','Vây Hãm: Không Lối Thoát','HD Vietsub',' The Roundup: No Way Out 2023 ','Vây Hãm: Không Lối Thoát','phim-chieu-rap'),(26079,'https://phimmoiiii.net/phim-le/vu-cuop-kim-cuong','https://phimmoiiii.net/wp-content/uploads/2023/05/vu-cuop-kim-cuong.jpg','Vụ Cướp Kim Cương','HD Vietsub',' Mojave Diamonds 2023 ','Vụ Cướp Kim Cương','phim-chieu-rap'),(61682,'https://phimmoiiii.net/phim-le/doc-chien-2','https://phimmoiiii.net/wp-content/uploads/2023/10/Doc-Chien-2.jpg','Độc Chiến 2','HD Vietsub',' Believer 2 2023 ','Độc Chiến 2','phim-chieu-rap'),(59720,'https://phimmoiiii.net/phim-le/sat-thu-bao-thu','https://phimmoiiii.net/wp-content/uploads/2023/11/The-Killer.jpg','Sát Thủ Báo Thù','HD Vietsub',' The Killer 2023 ','Sát Thủ Báo Thù','phim-chieu-rap'),(56845,'https://phimmoiiii.net/phim-le/bo-ba-nu-tac','https://phimmoiiii.net/wp-content/uploads/2023/11/Bo-Ba-Nu-Tac.jpg','Bộ Ba Nữ Tặc','HD Vietsub',' Wingwomen 2023 ','Bộ Ba Nữ Tặc','phim-chieu-rap'),(54777,'https://phimmoiiii.net/phim-le/loi-ich-cua-viec-bi-phan-boi','https://phimmoiiii.net/wp-content/uploads/2023/10/Burning-Betrayal.jpg','Lợi Ích Của Việc Bị Phản Bội','HD Vietsub',' Burning Betrayal 2023 ','Lợi Ích Của Việc Bị Phản Bội','phim-chieu-rap'),(47967,'https://phimmoiiii.net/phim-le/cau-chuyen-ki-dieu-ve-henry-sugar','https://phimmoiiii.net/wp-content/uploads/2023/09/Cau-Chuyen-Ki-Dieu-Ve-Henry-Sugar.jpg','Câu Chuyện Kì Diệu Về Henry Sugar','HD Vietsub',' The Wonderful Story of Henry Sugar 2023 ','Câu Chuyện Kì Diệu Về Henry Sugar','phim-chieu-rap'),(41640,'https://phimmoiiii.net/phim-le/cuoc-tinh-tay-ba','https://phimmoiiii.net/wp-content/uploads/2023/09/Happy-Ending.jpg','Cuộc Tình Tay Ba','HD Vietsub',' Happy Ending 2023 ','Cuộc Tình Tay Ba','phim-chieu-rap'),(40150,'https://phimmoiiii.net/phim-le/hoi-sat-nhan-doc-sach','https://phimmoiiii.net/wp-content/uploads/2023/08/hoi-sat-nhan-doc-sach.jpg','Hội Sát Nhân Đọc Sách','HD Vietsub',' Killer Book Club 2023 ','Hội Sát Nhân Đọc Sách','phim-chieu-rap'),(39146,'https://phimmoiiii.net/phim-le/tinh-yeu-tinh-duc-va-tuoi-30','https://phimmoiiii.net/wp-content/uploads/2023/08/Tinh-Yeu-Tinh-Duc-Va-Tuoi-30.jpg','Tình Yêu, Tình Dục Và Tuổi 30','HD Vietsub',' Love, Sex and 30 Candles 2023 ','Tình Yêu, Tình Dục Và Tuổi 30','phim-chieu-rap'),(38428,'https://phimmoiiii.net/phim-le/hau-vuong','https://phimmoiiii.net/wp-content/uploads/2023/08/hau-vuong.jpg','Hầu Vương','HD Vietsub',' The Monkey King 2023 ','Hầu Vương','phim-chieu-rap'),(37195,'https://phimmoiiii.net/phim-le/heart-of-stone','https://phimmoiiii.net/wp-content/uploads/2023/08/Diep-Vien-Stone.jpg','Điệp Viên Stone','HD Vietsub',' Heart of Stone 2023 ','Điệp Viên Stone','phim-chieu-rap'),(36401,'https://phimmoiiii.net/phim-le/diep-vu-doan-hon','https://phimmoiiii.net/wp-content/uploads/2023/08/diep-vu-doat-hon.jpg','Điệp Vụ Đoạt Hồn','HD Vietsub',' Soulcatcher 2023 ','Điệp Vụ Đoạt Hồn','phim-chieu-rap'),(35945,'https://phimmoiiii.net/phim-le/100-dieu-toi-se-lam-truoc-khi-tro-thanh-zombie','https://phimmoiiii.net/wp-content/uploads/2023/08/100-Dieu-Toi-Se-Lam-Truoc-Khi-Tro-Thanh-Zombie.jpg','100 Điều Tôi Sẽ Làm Trước Khi Trở Thành Zombie','HD Vietsub',' Zom 100 Live Action 2023 ','100 Điều Tôi Sẽ Làm Trước Khi Trở Thành Zombie','phim-chieu-rap'),(35174,'https://phimmoiiii.net/phim-le/ai-la-ke-sat-nhan','https://phimmoiiii.net/wp-content/uploads/2023/07/ai-la-ke-sat-nhan.jpg','Ai Là Kẻ Sát Nhân?','HD Vietsub',' The Murderer 2023 ','Ai Là Kẻ Sát Nhân?','phim-chieu-rap'),(34297,'https://phimmoiiii.net/phim-le/ho-nhan-ban-tyrone','https://phimmoiiii.net/wp-content/uploads/2023/07/Ho-Nhan-Ban-Tyrone.jpg','Họ Nhân Bản Tyrone','HD Vietsub',' They Cloned Tyrone 2023 ','Họ Nhân Bản Tyrone','phim-chieu-rap'),(34124,'https://phimmoiiii.net/phim-le/an-so-trai-dat-hang-hai-cot','https://phimmoiiii.net/wp-content/uploads/2023/07/AN-SO-TRAI-DAT-HANG-HAI-COT.jpg','Ẩn Số Trái Đất: Hang Hài Cốt','HD Vietsub',' Unknown: Cave of Bones 2023 ','Ẩn Số Trái Đất: Hang Hài Cốt','phim-chieu-rap'),(34122,'https://phimmoiiii.net/phim-le/hoi-tho-sau-nhat','https://phimmoiiii.net/wp-content/uploads/2023/01/hoi-tho-sau-nhat.jpg','Hơi Thở Sâu Nhất','HD Vietsub',' The Deepest Breath 2023 ','Hơi Thở Sâu Nhất','phim-chieu-rap'),(32098,'https://phimmoiiii.net/phim-le/an-so-trai-dat-robot-sat-nhan','https://phimmoiiii.net/wp-content/uploads/2023/07/an-so-trai-dat.jpg','Ẩn Số Trái Đất: Robot Sát Nhân','HD Vietsub',' Unknown: Killer Robots 2023 ','Ẩn Số Trái Đất: Robot Sát Nhân','phim-chieu-rap'),(31873,'https://phimmoiiii.net/phim-le/long-chim-barcelona','https://phimmoiiii.net/wp-content/uploads/2023/07/Long-Chim-Barcelona.jpg','Lồng Chim Barcelona','HD Vietsub',' Bird Box Barcelona 2023 ','Lồng Chim Barcelona','phim-chieu-rap'),(26823,'https://phimmoiiii.net/phim-le/nimona','https://phimmoiiii.net/wp-content/uploads/2023/06/Nimona.jpg','Nimona','HD Vietsub',' Nimona 2023 ','Nimona','phim-chieu-rap');\n",
      "    \n"
     ]
    }
   ],
   "source": [
    "# Step 4: insert data into DBSM\n",
    "\n",
    "def insert_database(connection, table_name, data_movies):\n",
    "    logger.info(f\"Start insert data into table {table_name}\")\n",
    "    list_field_name = [f'{field[\"field\"]}' for field in event[\"data_field\"]] \n",
    "    result_field_name = ','.join(list_field_name)\n",
    "\n",
    "    data_insert = [f\"({item['id']},'{item['movie_link']}','{item['poster_image_link']}','{item['movie_name']}','{item['movie_status']}','{item['en_name']}','{item['vn_name']}','{item['category']}')\" for item in data_movies]\n",
    "\n",
    "    result_insert = ','.join(data_insert)\n",
    "\n",
    "    sql_insert = f\"\"\"\n",
    "        INSERT INTO {table_name} ({result_field_name})\n",
    "        VALUES {result_insert};\n",
    "    \"\"\"\n",
    "    print(sql_insert)\n",
    "    cursor = connection.cursor()\n",
    "    cursor.execute(sql_insert)\n",
    "\n",
    "    \n",
    "\n",
    "insert_database(connection, table_name, total_movies)"
   ]
  }
 ],
 "metadata": {
  "kernelspec": {
   "display_name": "Python 3",
   "language": "python",
   "name": "python3"
  },
  "language_info": {
   "codemirror_mode": {
    "name": "ipython",
    "version": 3
   },
   "file_extension": ".py",
   "mimetype": "text/x-python",
   "name": "python",
   "nbconvert_exporter": "python",
   "pygments_lexer": "ipython3",
   "version": "3.8.9"
  }
 },
 "nbformat": 4,
 "nbformat_minor": 2
}
