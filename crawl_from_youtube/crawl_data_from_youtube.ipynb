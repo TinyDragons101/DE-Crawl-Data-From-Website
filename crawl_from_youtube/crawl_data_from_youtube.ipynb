{
 "cells": [
  {
   "cell_type": "code",
   "execution_count": null,
   "metadata": {},
   "outputs": [],
   "source": [
    "import bs4\n",
    "import psycopg2\n",
    "import logging\n",
    "import lxml\n",
    "import sys\n",
    "import requests"
   ]
  },
  {
   "cell_type": "code",
   "execution_count": null,
   "metadata": {},
   "outputs": [],
   "source": [
    "event = {\n",
    "    \"urls\" : \"https://www.youtube.com/\",\n",
    "    \"table_name\" : \"videos\",\n",
    "    \"data_field\" : [\n",
    "        {\n",
    "            \"field\" : \"id\",\n",
    "            \"type\" : \"interger\"\n",
    "        },\n",
    "        {\n",
    "            \"field\" : \"video_name\",\n",
    "            \"type\" : \"varchar\"\n",
    "        },\n",
    "        {\n",
    "            \"field\" : \"video_image_link\",\n",
    "            \"type\" : \"varchar\"\n",
    "        },\n",
    "        {\n",
    "            \"field\" : \"video_link\",\n",
    "            \"type\" : \"varchar\"\n",
    "        },\n",
    "        {\n",
    "            \"field\" : \"author_name\",\n",
    "            \"type\" : \"varchar\"\n",
    "        },\n",
    "        {\n",
    "            \"field\" : \"author_image_link\",\n",
    "            \"type\" : \"varchar\"\n",
    "        },\n",
    "        {\n",
    "            \"field\" : \"author_link\",\n",
    "            \"type\" : \"varchar\"   \n",
    "        }\n",
    "    ]\n",
    "}"
   ]
  }
 ],
 "metadata": {
  "language_info": {
   "name": "python"
  }
 },
 "nbformat": 4,
 "nbformat_minor": 2
}
