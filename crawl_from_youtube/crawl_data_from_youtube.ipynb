{
 "cells": [
  {
   "cell_type": "code",
   "execution_count": 345,
   "metadata": {},
   "outputs": [],
   "source": [
    "import bs4\n",
    "import psycopg2\n",
    "import logging\n",
    "import lxml\n",
    "import sys\n",
    "import requests\n",
    "import json\n",
    "import csv\n",
    "import urllib3"
   ]
  },
  {
   "cell_type": "code",
   "execution_count": 346,
   "metadata": {},
   "outputs": [],
   "source": [
    "# Load data from data.json\n",
    "data_file = open(\"data.json\")\n",
    "data_dict = json.load(data_file)"
   ]
  },
  {
   "cell_type": "code",
   "execution_count": 347,
   "metadata": {},
   "outputs": [],
   "source": [
    "# Create get_logger() function\n",
    "\n",
    "def get_logger():\n",
    "    logger = logging.getLogger('my_logger')\n",
    "    logger.setLevel(logging.DEBUG)\n",
    "    logger.propagate=False\n",
    "    \n",
    "    formatter = logging.Formatter('%(asctime)s - %(levelname)s - %(lineno)d : %(message)s')\n",
    "    \n",
    "    file_handler = logging.FileHandler(data_dict[\"file_log\"])\n",
    "    file_handler.setFormatter(formatter)\n",
    "    file_handler.setLevel(logging.DEBUG)\n",
    "\n",
    "    if not logger.hasHandlers():\n",
    "        logger.addHandler(file_handler)\n",
    "        \n",
    "    return logger\n",
    "    "
   ]
  },
  {
   "cell_type": "code",
   "execution_count": 348,
   "metadata": {},
   "outputs": [],
   "source": [
    "# Init csv writer\n",
    "csv_file = open(data_dict[\"file_csv\"], 'w')\n",
    "csv_writer = csv.writer(csv_file)\n",
    "\n",
    "# Reset file log\n",
    "with open(data_dict[\"file_log\"], 'w'): pass\n",
    "\n",
    "# Init file log to track history\n",
    "logger = get_logger()\n"
   ]
  },
  {
   "cell_type": "code",
   "execution_count": 349,
   "metadata": {},
   "outputs": [],
   "source": [
    "# Create connection to DBSM\n",
    "\n",
    "def create_connection():\n",
    "    f = open('password.txt', 'r') # password to my dbms\n",
    "    pw = f.read()\n",
    "    f.close()\n",
    "    connection = psycopg2.connect(\n",
    "        host = data_dict[\"dbms_host\"],\n",
    "        database = \"postgres\",\n",
    "        user = \"postgres\",\n",
    "        password = pw,\n",
    "        port = \"5432\"\n",
    "    )\n",
    "    connection.set_session(autocommit=True)\n",
    "    return connection\n",
    "\n",
    "connection = create_connection()\n",
    "logger.info(f\"Connected to {connection}\")"
   ]
  },
  {
   "cell_type": "code",
   "execution_count": 350,
   "metadata": {},
   "outputs": [],
   "source": [
    "# Create a table in DBMS and file csv\n",
    "\n",
    "fields = data_dict[\"event\"][\"data_field\"]\n",
    "table_name = data_dict[\"table_name\"]\n",
    "\n",
    "def create_table_dbms():\n",
    "    logger.info(f\"Start create table {table_name}\")\n",
    "    list_field_name_field_type = [f'{field[\"field\"]} {field[\"type\"]} ' for field in fields]\n",
    "    str_field_name_field_type = ', '.join(list_field_name_field_type)\n",
    "    create_table_str = f\"\"\"\n",
    "        create table if not exists {table_name} (\n",
    "            {str_field_name_field_type}\n",
    "        )\n",
    "    \"\"\"\n",
    "    cur = connection.cursor()\n",
    "    cur.execute(create_table_str)\n",
    "\n",
    "def create_table_csv():\n",
    "    list_field_name = [f'{field[\"field\"]}' for field in fields]\n",
    "    csv_writer.writerow(list_field_name)\n",
    "\n",
    "create_table_csv()\n",
    "create_table_dbms()"
   ]
  },
  {
   "cell_type": "code",
   "execution_count": 351,
   "metadata": {},
   "outputs": [
    {
     "name": "stdout",
     "output_type": "stream",
     "text": [
      "144\n",
      "144\n"
     ]
    }
   ],
   "source": [
    "# Crawl data from youtube and generate\n",
    "\n",
    "total_videos = []\n",
    "\n",
    "def crawl_data():\n",
    "    # info = requests.get(data_dict[\"event\"][\"urls\"])\n",
    "    html_file = open(\"yt_html_sample_3.html\")\n",
    "    soup = bs4.BeautifulSoup(html_file, features = 'html5lib')\n",
    "    videos = soup.find_all(\"ytd-rich-item-renderer\", {\"class\" : \"style-scope ytd-rich-grid-row\", \"items-per-row\" : \"3\", \"lockup\" : \"true\"})\n",
    "    print(len(videos))\n",
    "    \n",
    "    for video in videos:\n",
    "        try:\n",
    "            dismissible_video = video.find(\"div\", {\"id\" : \"dismissible\"})\n",
    "        except:\n",
    "            continue\n",
    "        \n",
    "        video_id = \"Unknown\"\n",
    "        \n",
    "        try:\n",
    "            video_name = dismissible_video.find(\"a\", {\"id\" : \"video-title-link\"})[\"title\"]\n",
    "        except:\n",
    "            video_name = \"Unknown\"\n",
    "        \n",
    "        try:\n",
    "            video_image_link = dismissible_video.find(\"img\", {\"style\" : \"background-color: transparent;\"})[\"src\"]\n",
    "        except:\n",
    "            video_image_link = \"Unknown\"\n",
    "            \n",
    "        try:\n",
    "            video_link = dismissible_video.find(\"a\", {\"id\" : \"thumbnail\"})[\"href\"]\n",
    "        except:\n",
    "            video_link = \"Unknown\"\n",
    "            \n",
    "        try:\n",
    "            author_name = dismissible_video.find(\"a\", {\"id\" : \"avatar-link\"})[\"title\"]\n",
    "        except:\n",
    "            author_name = \"Unknown\"\n",
    "            \n",
    "        try:\n",
    "            author_image_link = dismissible_video.find(\"img\", {\"id\" : \"img\"})[\"src\"]\n",
    "        except:\n",
    "            author_image_link = \"Unknown\"\n",
    "        \n",
    "        try:\n",
    "            author_link = dismissible_video.find(\"a\", {\"id\" : \"avatar-link\"})[\"href\"]\n",
    "        except:\n",
    "            author_link = \"Unknown\"\n",
    "        \n",
    "        video_dict = {\n",
    "            \"video_id\" : video_id,\n",
    "            \"video_name\" : video_name,\n",
    "            \"video_image_link\" : video_image_link,\n",
    "            \"video_link\" : video_link,\n",
    "            \"author_name\" : author_name,\n",
    "            \"author_image_link\" : author_image_link,\n",
    "            \"author_link\" : author_link\n",
    "        }\n",
    "        \n",
    "        total_videos.append(video_dict)\n",
    "    html_file.close()\n",
    "    \n",
    "crawl_data()\n",
    "print(len(total_videos))"
   ]
  },
  {
   "cell_type": "code",
   "execution_count": 352,
   "metadata": {},
   "outputs": [],
   "source": [
    "# Insert data into DB and file csv\n",
    "\n",
    "def insert_database():\n",
    "    logger.info"
   ]
  }
 ],
 "metadata": {
  "kernelspec": {
   "display_name": "Python 3",
   "language": "python",
   "name": "python3"
  },
  "language_info": {
   "codemirror_mode": {
    "name": "ipython",
    "version": 3
   },
   "file_extension": ".py",
   "mimetype": "text/x-python",
   "name": "python",
   "nbconvert_exporter": "python",
   "pygments_lexer": "ipython3",
   "version": "3.8.9"
  }
 },
 "nbformat": 4,
 "nbformat_minor": 2
}
